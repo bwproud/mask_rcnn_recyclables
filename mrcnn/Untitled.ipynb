{
 "cells": [
  {
   "cell_type": "code",
   "execution_count": 12,
   "metadata": {},
   "outputs": [],
   "source": [
    "import mrcnn.visualize"
   ]
  },
  {
   "cell_type": "code",
   "execution_count": 11,
   "metadata": {},
   "outputs": [
    {
     "data": {
      "text/plain": [
       "('image',\n",
       " 'boxes',\n",
       " 'masks',\n",
       " 'class_ids',\n",
       " 'class_names',\n",
       " 'scores',\n",
       " 'title',\n",
       " 'figsize',\n",
       " 'ax',\n",
       " 'show_mask',\n",
       " 'show_bbox',\n",
       " 'colors',\n",
       " 'captions',\n",
       " 'N',\n",
       " 'auto_show',\n",
       " '_',\n",
       " 'height',\n",
       " 'width',\n",
       " 'masked_image',\n",
       " 'i',\n",
       " 'color',\n",
       " 'y1',\n",
       " 'x1',\n",
       " 'y2',\n",
       " 'x2',\n",
       " 'p',\n",
       " 'class_id',\n",
       " 'score',\n",
       " 'label',\n",
       " 'x',\n",
       " 'caption',\n",
       " 'mask',\n",
       " 'padded_mask',\n",
       " 'contours',\n",
       " 'verts')"
      ]
     },
     "execution_count": 11,
     "metadata": {},
     "output_type": "execute_result"
    }
   ],
   "source": [
    "mrcnn.visualize.display_instances.__code__.co_varnames"
   ]
  },
  {
   "cell_type": "code",
   "execution_count": null,
   "metadata": {},
   "outputs": [],
   "source": []
  }
 ],
 "metadata": {
  "kernelspec": {
   "display_name": "Python 3",
   "language": "python",
   "name": "python3"
  },
  "language_info": {
   "codemirror_mode": {
    "name": "ipython",
    "version": 3
   },
   "file_extension": ".py",
   "mimetype": "text/x-python",
   "name": "python",
   "nbconvert_exporter": "python",
   "pygments_lexer": "ipython3",
   "version": "3.6.5"
  }
 },
 "nbformat": 4,
 "nbformat_minor": 2
}
